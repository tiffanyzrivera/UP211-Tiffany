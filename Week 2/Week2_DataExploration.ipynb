{
 "cells": [
  {
   "cell_type": "code",
   "execution_count": 1,
   "id": "e09a2ea9-826a-41d7-80c1-aeee5b83023f",
   "metadata": {},
   "outputs": [],
   "source": [
    "import pandas as pd\n",
    "import geopandas as gpd"
   ]
  },
  {
   "cell_type": "code",
   "execution_count": 3,
   "id": "c71d69ba-efe1-426d-bc79-dc01e7642a97",
   "metadata": {},
   "outputs": [],
   "source": [
    "# read and add shapefile to notebook\n",
    "metro_stations = gpd.read_file('data/Metro_Stations.csv')\n"
   ]
  },
  {
   "cell_type": "code",
   "execution_count": 4,
   "id": "8abd9699-c34d-4832-9f46-a02f2a69b888",
   "metadata": {},
   "outputs": [
    {
     "data": {
      "text/plain": [
       "(95, 32)"
      ]
     },
     "execution_count": 4,
     "metadata": {},
     "output_type": "execute_result"
    }
   ],
   "source": [
    "metro_stations.shape"
   ]
  },
  {
   "cell_type": "code",
   "execution_count": 5,
   "id": "ed5ab1cd-138e-4954-9ff1-878c90666b86",
   "metadata": {},
   "outputs": [
    {
     "data": {
      "text/plain": [
       "<bound method DataFrame.info of                     X                 Y OBJECTID  \\\n",
       "0   -118.236440476146  34.0560549566625    56393   \n",
       "1   -118.192689056457  33.7680689678508    61131   \n",
       "2   -118.189832056424  33.7680779676195    61132   \n",
       "3   -118.193715056529  33.7721369675158    61133   \n",
       "4   -118.189364056264  33.7723479671298    61134   \n",
       "..                ...               ...      ...   \n",
       "90  -118.285667056507  34.0182338467548    61779   \n",
       "91  -118.291998285896  34.0182962971882    61780   \n",
       "92  -118.309570666655  34.0183753165574    61781   \n",
       "93  -118.334838535791  34.0225299164718    61782   \n",
       "94  -118.345732206003  34.0239605465581    61783   \n",
       "\n",
       "                                         source      ext_id            cat1  \\\n",
       "0   Metropolitan Transportation Authority (MTA)  1054069001  Transportation   \n",
       "1   Metropolitan Transportation Authority (MTA)    80000001  Transportation   \n",
       "2   Metropolitan Transportation Authority (MTA)    80000002  Transportation   \n",
       "3   Metropolitan Transportation Authority (MTA)    80000003  Transportation   \n",
       "4   Metropolitan Transportation Authority (MTA)    80000004  Transportation   \n",
       "..                                          ...         ...             ...   \n",
       "90  Metropolitan Transportation Authority (MTA)              Transportation   \n",
       "91  Metropolitan Transportation Authority (MTA)              Transportation   \n",
       "92  Metropolitan Transportation Authority (MTA)              Transportation   \n",
       "93  Metropolitan Transportation Authority (MTA)              Transportation   \n",
       "94  Metropolitan Transportation Authority (MTA)              Transportation   \n",
       "\n",
       "              cat2 cat3                              org_name  \\\n",
       "0   Metro Stations                                  LA County   \n",
       "1   Metro Stations       Metropolitan Transit Authority (MTA)   \n",
       "2   Metro Stations       Metropolitan Transit Authority (MTA)   \n",
       "3   Metro Stations       Metropolitan Transit Authority (MTA)   \n",
       "4   Metro Stations       Metropolitan Transit Authority (MTA)   \n",
       "..             ...  ...                                   ...   \n",
       "90  Metro Stations       Metropolitan Transit Authority (MTA)   \n",
       "91  Metro Stations       Metropolitan Transit Authority (MTA)   \n",
       "92  Metro Stations       Metropolitan Transit Authority (MTA)   \n",
       "93  Metro Stations       Metropolitan Transit Authority (MTA)   \n",
       "94  Metro Stations       Metropolitan Transit Authority (MTA)   \n",
       "\n",
       "                           Name  ...    zip  \\\n",
       "0                 Union Station  ...  90012   \n",
       "1       Long Beach Transit Mall  ...          \n",
       "2      1st Street Metro Station  ...          \n",
       "3         Pacific Metro Station  ...          \n",
       "4      5th Street Metro Station  ...          \n",
       "..                          ...  ...    ...   \n",
       "90  Expo Park/USC Metro Station  ...  90007   \n",
       "91   Expo/Vermont Metro Station  ...  90007   \n",
       "92   Expo/Western Metro Station  ...  90018   \n",
       "93  Expo/Crenshaw Metro Station  ...  90018   \n",
       "94       Farmdale Metro Station  ...  90016   \n",
       "\n",
       "                                      link use_type     latitude  \\\n",
       "0   http://egis3.lacounty.gov/lms/?p=58336  publish  34.05605499   \n",
       "1   http://egis3.lacounty.gov/lms/?p=63004  publish    33.768069   \n",
       "2   http://egis3.lacounty.gov/lms/?p=63005  publish    33.768078   \n",
       "3   http://egis3.lacounty.gov/lms/?p=63006  publish    33.772137   \n",
       "4   http://egis3.lacounty.gov/lms/?p=63007  publish    33.772348   \n",
       "..                                     ...      ...          ...   \n",
       "90  http://egis3.lacounty.gov/lms/?p=67742  publish  34.01823388   \n",
       "91  http://egis3.lacounty.gov/lms/?p=67743  publish  34.01829633   \n",
       "92  http://egis3.lacounty.gov/lms/?p=67744  publish  34.01837535   \n",
       "93  http://egis3.lacounty.gov/lms/?p=67745  publish  34.02252995   \n",
       "94  http://egis3.lacounty.gov/lms/?p=67746  publish  34.02396058   \n",
       "\n",
       "        longitude            date_updated dis_status           POINT_X  \\\n",
       "0   -118.23644042  2013/06/04 14:27:31+00             6490052.98269998   \n",
       "1     -118.192689  2012/03/22 17:11:17+00             6503104.28172855   \n",
       "2     -118.189832  2012/03/22 17:11:24+00             6503972.64580546   \n",
       "3     -118.193715  2012/03/22 17:11:34+00             6502795.29186097   \n",
       "4     -118.189364  2012/03/22 17:11:41+00             6504117.81743114   \n",
       "..            ...                     ...        ...               ...   \n",
       "90    -118.285667  2012/05/03 13:16:51+00             6475103.26752073   \n",
       "91  -118.29199823  2012/05/03 13:16:37+00             6473184.75560972   \n",
       "92  -118.30957061  2012/05/03 13:16:29+00             6467859.82072155   \n",
       "93  -118.33483848  2012/05/03 13:16:06+00             6460207.85374205   \n",
       "94  -118.34573215  2012/05/03 13:16:21+00              6456908.6664428   \n",
       "\n",
       "             POINT_Y geometry  \n",
       "0   1842864.11310473     None  \n",
       "1   1738031.18891273     None  \n",
       "2   1738032.81194098     None  \n",
       "3   1739512.24763039     None  \n",
       "4   1739586.51651073     None  \n",
       "..               ...      ...  \n",
       "90  1829139.04442631     None  \n",
       "91  1829167.28419922     None  \n",
       "92  1829211.97505473     None  \n",
       "93  1830748.45295289     None  \n",
       "94  1831280.25963207     None  \n",
       "\n",
       "[95 rows x 32 columns]>"
      ]
     },
     "execution_count": 5,
     "metadata": {},
     "output_type": "execute_result"
    }
   ],
   "source": [
    "metro_stations.info"
   ]
  },
  {
   "cell_type": "code",
   "execution_count": 6,
   "id": "e97ccc7f-d6e1-46d1-acc9-6128bc60d58b",
   "metadata": {},
   "outputs": [
    {
     "data": {
      "text/html": [
       "<div>\n",
       "<style scoped>\n",
       "    .dataframe tbody tr th:only-of-type {\n",
       "        vertical-align: middle;\n",
       "    }\n",
       "\n",
       "    .dataframe tbody tr th {\n",
       "        vertical-align: top;\n",
       "    }\n",
       "\n",
       "    .dataframe thead th {\n",
       "        text-align: right;\n",
       "    }\n",
       "</style>\n",
       "<table border=\"1\" class=\"dataframe\">\n",
       "  <thead>\n",
       "    <tr style=\"text-align: right;\">\n",
       "      <th></th>\n",
       "      <th>X</th>\n",
       "      <th>Y</th>\n",
       "      <th>OBJECTID</th>\n",
       "      <th>source</th>\n",
       "      <th>ext_id</th>\n",
       "      <th>cat1</th>\n",
       "      <th>cat2</th>\n",
       "      <th>cat3</th>\n",
       "      <th>org_name</th>\n",
       "      <th>Name</th>\n",
       "      <th>...</th>\n",
       "      <th>zip</th>\n",
       "      <th>link</th>\n",
       "      <th>use_type</th>\n",
       "      <th>latitude</th>\n",
       "      <th>longitude</th>\n",
       "      <th>date_updated</th>\n",
       "      <th>dis_status</th>\n",
       "      <th>POINT_X</th>\n",
       "      <th>POINT_Y</th>\n",
       "      <th>geometry</th>\n",
       "    </tr>\n",
       "  </thead>\n",
       "  <tbody>\n",
       "    <tr>\n",
       "      <th>0</th>\n",
       "      <td>-118.236440476146</td>\n",
       "      <td>34.0560549566625</td>\n",
       "      <td>56393</td>\n",
       "      <td>Metropolitan Transportation Authority (MTA)</td>\n",
       "      <td>1054069001</td>\n",
       "      <td>Transportation</td>\n",
       "      <td>Metro Stations</td>\n",
       "      <td></td>\n",
       "      <td>LA County</td>\n",
       "      <td>Union Station</td>\n",
       "      <td>...</td>\n",
       "      <td>90012</td>\n",
       "      <td>http://egis3.lacounty.gov/lms/?p=58336</td>\n",
       "      <td>publish</td>\n",
       "      <td>34.05605499</td>\n",
       "      <td>-118.23644042</td>\n",
       "      <td>2013/06/04 14:27:31+00</td>\n",
       "      <td></td>\n",
       "      <td>6490052.98269998</td>\n",
       "      <td>1842864.11310473</td>\n",
       "      <td>None</td>\n",
       "    </tr>\n",
       "    <tr>\n",
       "      <th>1</th>\n",
       "      <td>-118.192689056457</td>\n",
       "      <td>33.7680689678508</td>\n",
       "      <td>61131</td>\n",
       "      <td>Metropolitan Transportation Authority (MTA)</td>\n",
       "      <td>80000001</td>\n",
       "      <td>Transportation</td>\n",
       "      <td>Metro Stations</td>\n",
       "      <td></td>\n",
       "      <td>Metropolitan Transit Authority (MTA)</td>\n",
       "      <td>Long Beach Transit Mall</td>\n",
       "      <td>...</td>\n",
       "      <td></td>\n",
       "      <td>http://egis3.lacounty.gov/lms/?p=63004</td>\n",
       "      <td>publish</td>\n",
       "      <td>33.768069</td>\n",
       "      <td>-118.192689</td>\n",
       "      <td>2012/03/22 17:11:17+00</td>\n",
       "      <td></td>\n",
       "      <td>6503104.28172855</td>\n",
       "      <td>1738031.18891273</td>\n",
       "      <td>None</td>\n",
       "    </tr>\n",
       "    <tr>\n",
       "      <th>2</th>\n",
       "      <td>-118.189832056424</td>\n",
       "      <td>33.7680779676195</td>\n",
       "      <td>61132</td>\n",
       "      <td>Metropolitan Transportation Authority (MTA)</td>\n",
       "      <td>80000002</td>\n",
       "      <td>Transportation</td>\n",
       "      <td>Metro Stations</td>\n",
       "      <td></td>\n",
       "      <td>Metropolitan Transit Authority (MTA)</td>\n",
       "      <td>1st Street Metro Station</td>\n",
       "      <td>...</td>\n",
       "      <td></td>\n",
       "      <td>http://egis3.lacounty.gov/lms/?p=63005</td>\n",
       "      <td>publish</td>\n",
       "      <td>33.768078</td>\n",
       "      <td>-118.189832</td>\n",
       "      <td>2012/03/22 17:11:24+00</td>\n",
       "      <td></td>\n",
       "      <td>6503972.64580546</td>\n",
       "      <td>1738032.81194098</td>\n",
       "      <td>None</td>\n",
       "    </tr>\n",
       "    <tr>\n",
       "      <th>3</th>\n",
       "      <td>-118.193715056529</td>\n",
       "      <td>33.7721369675158</td>\n",
       "      <td>61133</td>\n",
       "      <td>Metropolitan Transportation Authority (MTA)</td>\n",
       "      <td>80000003</td>\n",
       "      <td>Transportation</td>\n",
       "      <td>Metro Stations</td>\n",
       "      <td></td>\n",
       "      <td>Metropolitan Transit Authority (MTA)</td>\n",
       "      <td>Pacific Metro Station</td>\n",
       "      <td>...</td>\n",
       "      <td></td>\n",
       "      <td>http://egis3.lacounty.gov/lms/?p=63006</td>\n",
       "      <td>publish</td>\n",
       "      <td>33.772137</td>\n",
       "      <td>-118.193715</td>\n",
       "      <td>2012/03/22 17:11:34+00</td>\n",
       "      <td></td>\n",
       "      <td>6502795.29186097</td>\n",
       "      <td>1739512.24763039</td>\n",
       "      <td>None</td>\n",
       "    </tr>\n",
       "    <tr>\n",
       "      <th>4</th>\n",
       "      <td>-118.189364056264</td>\n",
       "      <td>33.7723479671298</td>\n",
       "      <td>61134</td>\n",
       "      <td>Metropolitan Transportation Authority (MTA)</td>\n",
       "      <td>80000004</td>\n",
       "      <td>Transportation</td>\n",
       "      <td>Metro Stations</td>\n",
       "      <td></td>\n",
       "      <td>Metropolitan Transit Authority (MTA)</td>\n",
       "      <td>5th Street Metro Station</td>\n",
       "      <td>...</td>\n",
       "      <td></td>\n",
       "      <td>http://egis3.lacounty.gov/lms/?p=63007</td>\n",
       "      <td>publish</td>\n",
       "      <td>33.772348</td>\n",
       "      <td>-118.189364</td>\n",
       "      <td>2012/03/22 17:11:41+00</td>\n",
       "      <td></td>\n",
       "      <td>6504117.81743114</td>\n",
       "      <td>1739586.51651073</td>\n",
       "      <td>None</td>\n",
       "    </tr>\n",
       "  </tbody>\n",
       "</table>\n",
       "<p>5 rows × 32 columns</p>\n",
       "</div>"
      ],
      "text/plain": [
       "                   X                 Y OBJECTID  \\\n",
       "0  -118.236440476146  34.0560549566625    56393   \n",
       "1  -118.192689056457  33.7680689678508    61131   \n",
       "2  -118.189832056424  33.7680779676195    61132   \n",
       "3  -118.193715056529  33.7721369675158    61133   \n",
       "4  -118.189364056264  33.7723479671298    61134   \n",
       "\n",
       "                                        source      ext_id            cat1  \\\n",
       "0  Metropolitan Transportation Authority (MTA)  1054069001  Transportation   \n",
       "1  Metropolitan Transportation Authority (MTA)    80000001  Transportation   \n",
       "2  Metropolitan Transportation Authority (MTA)    80000002  Transportation   \n",
       "3  Metropolitan Transportation Authority (MTA)    80000003  Transportation   \n",
       "4  Metropolitan Transportation Authority (MTA)    80000004  Transportation   \n",
       "\n",
       "             cat2 cat3                              org_name  \\\n",
       "0  Metro Stations                                  LA County   \n",
       "1  Metro Stations       Metropolitan Transit Authority (MTA)   \n",
       "2  Metro Stations       Metropolitan Transit Authority (MTA)   \n",
       "3  Metro Stations       Metropolitan Transit Authority (MTA)   \n",
       "4  Metro Stations       Metropolitan Transit Authority (MTA)   \n",
       "\n",
       "                       Name  ...    zip  \\\n",
       "0             Union Station  ...  90012   \n",
       "1   Long Beach Transit Mall  ...          \n",
       "2  1st Street Metro Station  ...          \n",
       "3     Pacific Metro Station  ...          \n",
       "4  5th Street Metro Station  ...          \n",
       "\n",
       "                                     link use_type     latitude  \\\n",
       "0  http://egis3.lacounty.gov/lms/?p=58336  publish  34.05605499   \n",
       "1  http://egis3.lacounty.gov/lms/?p=63004  publish    33.768069   \n",
       "2  http://egis3.lacounty.gov/lms/?p=63005  publish    33.768078   \n",
       "3  http://egis3.lacounty.gov/lms/?p=63006  publish    33.772137   \n",
       "4  http://egis3.lacounty.gov/lms/?p=63007  publish    33.772348   \n",
       "\n",
       "       longitude            date_updated dis_status           POINT_X  \\\n",
       "0  -118.23644042  2013/06/04 14:27:31+00             6490052.98269998   \n",
       "1    -118.192689  2012/03/22 17:11:17+00             6503104.28172855   \n",
       "2    -118.189832  2012/03/22 17:11:24+00             6503972.64580546   \n",
       "3    -118.193715  2012/03/22 17:11:34+00             6502795.29186097   \n",
       "4    -118.189364  2012/03/22 17:11:41+00             6504117.81743114   \n",
       "\n",
       "            POINT_Y geometry  \n",
       "0  1842864.11310473     None  \n",
       "1  1738031.18891273     None  \n",
       "2  1738032.81194098     None  \n",
       "3  1739512.24763039     None  \n",
       "4  1739586.51651073     None  \n",
       "\n",
       "[5 rows x 32 columns]"
      ]
     },
     "execution_count": 6,
     "metadata": {},
     "output_type": "execute_result"
    }
   ],
   "source": [
    "metro_stations.head()"
   ]
  },
  {
   "cell_type": "code",
   "execution_count": 7,
   "id": "a5e22861-26aa-47db-b5ec-f7e990cacd79",
   "metadata": {},
   "outputs": [
    {
     "data": {
      "text/plain": [
       "0     None\n",
       "1     None\n",
       "2     None\n",
       "3     None\n",
       "4     None\n",
       "      ... \n",
       "90    None\n",
       "91    None\n",
       "92    None\n",
       "93    None\n",
       "94    None\n",
       "Length: 95, dtype: object"
      ]
     },
     "execution_count": 7,
     "metadata": {},
     "output_type": "execute_result"
    }
   ],
   "source": [
    "metro_stations.type"
   ]
  },
  {
   "cell_type": "code",
   "execution_count": 13,
   "id": "70f0449b-851c-4a46-a92a-a3f6075f1632",
   "metadata": {},
   "outputs": [],
   "source": [
    "#data set says geometry= none, so we need to run this line of code to associate lat/long with geodf\n",
    "#geodf= converting regular df to geodf\n",
    "gdf = gpd.GeoDataFrame(\n",
    "    metro_stations, geometry=gpd.points_from_xy(metro_stations.longitude, metro_stations.latitude),crs= 'epsg:4326'\n",
    "\n",
    ")"
   ]
  },
  {
   "cell_type": "code",
   "execution_count": 13,
   "id": "cdddef16-9f31-4fb4-8932-73eb73df8f52",
   "metadata": {},
   "outputs": [
    {
     "ename": "ValueError",
     "evalue": "invalid literal for int() with base 10: '-118.236440476146'",
     "output_type": "error",
     "traceback": [
      "\u001b[0;31m---------------------------------------------------------------------------\u001b[0m",
      "\u001b[0;31mValueError\u001b[0m                                Traceback (most recent call last)",
      "Cell \u001b[0;32mIn[13], line 1\u001b[0m\n\u001b[0;32m----> 1\u001b[0m \u001b[43mmetro_stations\u001b[49m\u001b[38;5;241;43m.\u001b[39;49m\u001b[43mastype\u001b[49m\u001b[43m(\u001b[49m\u001b[38;5;28;43mstr\u001b[39;49m\u001b[43m)\u001b[49m\u001b[38;5;241;43m.\u001b[39;49m\u001b[43mastype\u001b[49m\u001b[43m(\u001b[49m\u001b[38;5;28;43mint\u001b[39;49m\u001b[43m)\u001b[49m\n",
      "File \u001b[0;32m/opt/conda/lib/python3.10/site-packages/pandas/core/generic.py:6240\u001b[0m, in \u001b[0;36mNDFrame.astype\u001b[0;34m(self, dtype, copy, errors)\u001b[0m\n\u001b[1;32m   6233\u001b[0m     results \u001b[38;5;241m=\u001b[39m [\n\u001b[1;32m   6234\u001b[0m         \u001b[38;5;28mself\u001b[39m\u001b[38;5;241m.\u001b[39miloc[:, i]\u001b[38;5;241m.\u001b[39mastype(dtype, copy\u001b[38;5;241m=\u001b[39mcopy)\n\u001b[1;32m   6235\u001b[0m         \u001b[38;5;28;01mfor\u001b[39;00m i \u001b[38;5;129;01min\u001b[39;00m \u001b[38;5;28mrange\u001b[39m(\u001b[38;5;28mlen\u001b[39m(\u001b[38;5;28mself\u001b[39m\u001b[38;5;241m.\u001b[39mcolumns))\n\u001b[1;32m   6236\u001b[0m     ]\n\u001b[1;32m   6238\u001b[0m \u001b[38;5;28;01melse\u001b[39;00m:\n\u001b[1;32m   6239\u001b[0m     \u001b[38;5;66;03m# else, only a single dtype is given\u001b[39;00m\n\u001b[0;32m-> 6240\u001b[0m     new_data \u001b[38;5;241m=\u001b[39m \u001b[38;5;28;43mself\u001b[39;49m\u001b[38;5;241;43m.\u001b[39;49m\u001b[43m_mgr\u001b[49m\u001b[38;5;241;43m.\u001b[39;49m\u001b[43mastype\u001b[49m\u001b[43m(\u001b[49m\u001b[43mdtype\u001b[49m\u001b[38;5;241;43m=\u001b[39;49m\u001b[43mdtype\u001b[49m\u001b[43m,\u001b[49m\u001b[43m \u001b[49m\u001b[43mcopy\u001b[49m\u001b[38;5;241;43m=\u001b[39;49m\u001b[43mcopy\u001b[49m\u001b[43m,\u001b[49m\u001b[43m \u001b[49m\u001b[43merrors\u001b[49m\u001b[38;5;241;43m=\u001b[39;49m\u001b[43merrors\u001b[49m\u001b[43m)\u001b[49m\n\u001b[1;32m   6241\u001b[0m     \u001b[38;5;28;01mreturn\u001b[39;00m \u001b[38;5;28mself\u001b[39m\u001b[38;5;241m.\u001b[39m_constructor(new_data)\u001b[38;5;241m.\u001b[39m__finalize__(\u001b[38;5;28mself\u001b[39m, method\u001b[38;5;241m=\u001b[39m\u001b[38;5;124m\"\u001b[39m\u001b[38;5;124mastype\u001b[39m\u001b[38;5;124m\"\u001b[39m)\n\u001b[1;32m   6243\u001b[0m \u001b[38;5;66;03m# GH 33113: handle empty frame or series\u001b[39;00m\n",
      "File \u001b[0;32m/opt/conda/lib/python3.10/site-packages/pandas/core/internals/managers.py:450\u001b[0m, in \u001b[0;36mBaseBlockManager.astype\u001b[0;34m(self, dtype, copy, errors)\u001b[0m\n\u001b[1;32m    449\u001b[0m \u001b[38;5;28;01mdef\u001b[39;00m \u001b[38;5;21mastype\u001b[39m(\u001b[38;5;28mself\u001b[39m: T, dtype, copy: \u001b[38;5;28mbool\u001b[39m \u001b[38;5;241m=\u001b[39m \u001b[38;5;28;01mFalse\u001b[39;00m, errors: \u001b[38;5;28mstr\u001b[39m \u001b[38;5;241m=\u001b[39m \u001b[38;5;124m\"\u001b[39m\u001b[38;5;124mraise\u001b[39m\u001b[38;5;124m\"\u001b[39m) \u001b[38;5;241m-\u001b[39m\u001b[38;5;241m>\u001b[39m T:\n\u001b[0;32m--> 450\u001b[0m     \u001b[38;5;28;01mreturn\u001b[39;00m \u001b[38;5;28;43mself\u001b[39;49m\u001b[38;5;241;43m.\u001b[39;49m\u001b[43mapply\u001b[49m\u001b[43m(\u001b[49m\u001b[38;5;124;43m\"\u001b[39;49m\u001b[38;5;124;43mastype\u001b[39;49m\u001b[38;5;124;43m\"\u001b[39;49m\u001b[43m,\u001b[49m\u001b[43m \u001b[49m\u001b[43mdtype\u001b[49m\u001b[38;5;241;43m=\u001b[39;49m\u001b[43mdtype\u001b[49m\u001b[43m,\u001b[49m\u001b[43m \u001b[49m\u001b[43mcopy\u001b[49m\u001b[38;5;241;43m=\u001b[39;49m\u001b[43mcopy\u001b[49m\u001b[43m,\u001b[49m\u001b[43m \u001b[49m\u001b[43merrors\u001b[49m\u001b[38;5;241;43m=\u001b[39;49m\u001b[43merrors\u001b[49m\u001b[43m)\u001b[49m\n",
      "File \u001b[0;32m/opt/conda/lib/python3.10/site-packages/pandas/core/internals/managers.py:352\u001b[0m, in \u001b[0;36mBaseBlockManager.apply\u001b[0;34m(self, f, align_keys, ignore_failures, **kwargs)\u001b[0m\n\u001b[1;32m    350\u001b[0m         applied \u001b[38;5;241m=\u001b[39m b\u001b[38;5;241m.\u001b[39mapply(f, \u001b[38;5;241m*\u001b[39m\u001b[38;5;241m*\u001b[39mkwargs)\n\u001b[1;32m    351\u001b[0m     \u001b[38;5;28;01melse\u001b[39;00m:\n\u001b[0;32m--> 352\u001b[0m         applied \u001b[38;5;241m=\u001b[39m \u001b[38;5;28;43mgetattr\u001b[39;49m\u001b[43m(\u001b[49m\u001b[43mb\u001b[49m\u001b[43m,\u001b[49m\u001b[43m \u001b[49m\u001b[43mf\u001b[49m\u001b[43m)\u001b[49m\u001b[43m(\u001b[49m\u001b[38;5;241;43m*\u001b[39;49m\u001b[38;5;241;43m*\u001b[39;49m\u001b[43mkwargs\u001b[49m\u001b[43m)\u001b[49m\n\u001b[1;32m    353\u001b[0m \u001b[38;5;28;01mexcept\u001b[39;00m (\u001b[38;5;167;01mTypeError\u001b[39;00m, \u001b[38;5;167;01mNotImplementedError\u001b[39;00m):\n\u001b[1;32m    354\u001b[0m     \u001b[38;5;28;01mif\u001b[39;00m \u001b[38;5;129;01mnot\u001b[39;00m ignore_failures:\n",
      "File \u001b[0;32m/opt/conda/lib/python3.10/site-packages/pandas/core/internals/blocks.py:526\u001b[0m, in \u001b[0;36mBlock.astype\u001b[0;34m(self, dtype, copy, errors)\u001b[0m\n\u001b[1;32m    508\u001b[0m \u001b[38;5;250m\u001b[39m\u001b[38;5;124;03m\"\"\"\u001b[39;00m\n\u001b[1;32m    509\u001b[0m \u001b[38;5;124;03mCoerce to the new dtype.\u001b[39;00m\n\u001b[1;32m    510\u001b[0m \n\u001b[0;32m   (...)\u001b[0m\n\u001b[1;32m    522\u001b[0m \u001b[38;5;124;03mBlock\u001b[39;00m\n\u001b[1;32m    523\u001b[0m \u001b[38;5;124;03m\"\"\"\u001b[39;00m\n\u001b[1;32m    524\u001b[0m values \u001b[38;5;241m=\u001b[39m \u001b[38;5;28mself\u001b[39m\u001b[38;5;241m.\u001b[39mvalues\n\u001b[0;32m--> 526\u001b[0m new_values \u001b[38;5;241m=\u001b[39m \u001b[43mastype_array_safe\u001b[49m\u001b[43m(\u001b[49m\u001b[43mvalues\u001b[49m\u001b[43m,\u001b[49m\u001b[43m \u001b[49m\u001b[43mdtype\u001b[49m\u001b[43m,\u001b[49m\u001b[43m \u001b[49m\u001b[43mcopy\u001b[49m\u001b[38;5;241;43m=\u001b[39;49m\u001b[43mcopy\u001b[49m\u001b[43m,\u001b[49m\u001b[43m \u001b[49m\u001b[43merrors\u001b[49m\u001b[38;5;241;43m=\u001b[39;49m\u001b[43merrors\u001b[49m\u001b[43m)\u001b[49m\n\u001b[1;32m    528\u001b[0m new_values \u001b[38;5;241m=\u001b[39m maybe_coerce_values(new_values)\n\u001b[1;32m    529\u001b[0m newb \u001b[38;5;241m=\u001b[39m \u001b[38;5;28mself\u001b[39m\u001b[38;5;241m.\u001b[39mmake_block(new_values)\n",
      "File \u001b[0;32m/opt/conda/lib/python3.10/site-packages/pandas/core/dtypes/astype.py:299\u001b[0m, in \u001b[0;36mastype_array_safe\u001b[0;34m(values, dtype, copy, errors)\u001b[0m\n\u001b[1;32m    296\u001b[0m     \u001b[38;5;28;01mreturn\u001b[39;00m values\u001b[38;5;241m.\u001b[39mcopy()\n\u001b[1;32m    298\u001b[0m \u001b[38;5;28;01mtry\u001b[39;00m:\n\u001b[0;32m--> 299\u001b[0m     new_values \u001b[38;5;241m=\u001b[39m \u001b[43mastype_array\u001b[49m\u001b[43m(\u001b[49m\u001b[43mvalues\u001b[49m\u001b[43m,\u001b[49m\u001b[43m \u001b[49m\u001b[43mdtype\u001b[49m\u001b[43m,\u001b[49m\u001b[43m \u001b[49m\u001b[43mcopy\u001b[49m\u001b[38;5;241;43m=\u001b[39;49m\u001b[43mcopy\u001b[49m\u001b[43m)\u001b[49m\n\u001b[1;32m    300\u001b[0m \u001b[38;5;28;01mexcept\u001b[39;00m (\u001b[38;5;167;01mValueError\u001b[39;00m, \u001b[38;5;167;01mTypeError\u001b[39;00m):\n\u001b[1;32m    301\u001b[0m     \u001b[38;5;66;03m# e.g. astype_nansafe can fail on object-dtype of strings\u001b[39;00m\n\u001b[1;32m    302\u001b[0m     \u001b[38;5;66;03m#  trying to convert to float\u001b[39;00m\n\u001b[1;32m    303\u001b[0m     \u001b[38;5;28;01mif\u001b[39;00m errors \u001b[38;5;241m==\u001b[39m \u001b[38;5;124m\"\u001b[39m\u001b[38;5;124mignore\u001b[39m\u001b[38;5;124m\"\u001b[39m:\n",
      "File \u001b[0;32m/opt/conda/lib/python3.10/site-packages/pandas/core/dtypes/astype.py:230\u001b[0m, in \u001b[0;36mastype_array\u001b[0;34m(values, dtype, copy)\u001b[0m\n\u001b[1;32m    227\u001b[0m     values \u001b[38;5;241m=\u001b[39m values\u001b[38;5;241m.\u001b[39mastype(dtype, copy\u001b[38;5;241m=\u001b[39mcopy)\n\u001b[1;32m    229\u001b[0m \u001b[38;5;28;01melse\u001b[39;00m:\n\u001b[0;32m--> 230\u001b[0m     values \u001b[38;5;241m=\u001b[39m \u001b[43mastype_nansafe\u001b[49m\u001b[43m(\u001b[49m\u001b[43mvalues\u001b[49m\u001b[43m,\u001b[49m\u001b[43m \u001b[49m\u001b[43mdtype\u001b[49m\u001b[43m,\u001b[49m\u001b[43m \u001b[49m\u001b[43mcopy\u001b[49m\u001b[38;5;241;43m=\u001b[39;49m\u001b[43mcopy\u001b[49m\u001b[43m)\u001b[49m\n\u001b[1;32m    232\u001b[0m \u001b[38;5;66;03m# in pandas we don't store numpy str dtypes, so convert to object\u001b[39;00m\n\u001b[1;32m    233\u001b[0m \u001b[38;5;28;01mif\u001b[39;00m \u001b[38;5;28misinstance\u001b[39m(dtype, np\u001b[38;5;241m.\u001b[39mdtype) \u001b[38;5;129;01mand\u001b[39;00m \u001b[38;5;28missubclass\u001b[39m(values\u001b[38;5;241m.\u001b[39mdtype\u001b[38;5;241m.\u001b[39mtype, \u001b[38;5;28mstr\u001b[39m):\n",
      "File \u001b[0;32m/opt/conda/lib/python3.10/site-packages/pandas/core/dtypes/astype.py:170\u001b[0m, in \u001b[0;36mastype_nansafe\u001b[0;34m(arr, dtype, copy, skipna)\u001b[0m\n\u001b[1;32m    166\u001b[0m     \u001b[38;5;28;01mraise\u001b[39;00m \u001b[38;5;167;01mValueError\u001b[39;00m(msg)\n\u001b[1;32m    168\u001b[0m \u001b[38;5;28;01mif\u001b[39;00m copy \u001b[38;5;129;01mor\u001b[39;00m is_object_dtype(arr\u001b[38;5;241m.\u001b[39mdtype) \u001b[38;5;129;01mor\u001b[39;00m is_object_dtype(dtype):\n\u001b[1;32m    169\u001b[0m     \u001b[38;5;66;03m# Explicit copy, or required since NumPy can't view from / to object.\u001b[39;00m\n\u001b[0;32m--> 170\u001b[0m     \u001b[38;5;28;01mreturn\u001b[39;00m \u001b[43marr\u001b[49m\u001b[38;5;241;43m.\u001b[39;49m\u001b[43mastype\u001b[49m\u001b[43m(\u001b[49m\u001b[43mdtype\u001b[49m\u001b[43m,\u001b[49m\u001b[43m \u001b[49m\u001b[43mcopy\u001b[49m\u001b[38;5;241;43m=\u001b[39;49m\u001b[38;5;28;43;01mTrue\u001b[39;49;00m\u001b[43m)\u001b[49m\n\u001b[1;32m    172\u001b[0m \u001b[38;5;28;01mreturn\u001b[39;00m arr\u001b[38;5;241m.\u001b[39mastype(dtype, copy\u001b[38;5;241m=\u001b[39mcopy)\n",
      "\u001b[0;31mValueError\u001b[0m: invalid literal for int() with base 10: '-118.236440476146'"
     ]
    }
   ],
   "source": [
    "metro_stations.astype(str).astype(int)"
   ]
  },
  {
   "cell_type": "markdown",
   "id": "afc3c4f9-f7aa-4d9d-8220-4f0d5f26f167",
   "metadata": {},
   "source": [
    "# Add an introductory markdown cell with a title (header) and paragraph that describes what you are doing.\n",
    "\n",
    "## Import the data, and conduct data exploration, making sure to document your steps and your preliminary findings. At minimum, run the following commands:\n",
    "\n",
    "#.shape\n",
    "#.info\n",
    "#.head()\n",
    "#.plot()\n",
    "#.value_counts()\n",
    "#run a query on the data that filters it in some way"
   ]
  },
  {
   "cell_type": "code",
   "execution_count": 14,
   "id": "bfac2898-0690-4994-b32e-59b82180de22",
   "metadata": {},
   "outputs": [
    {
     "data": {
      "text/plain": [
       "<AxesSubplot: >"
      ]
     },
     "execution_count": 14,
     "metadata": {},
     "output_type": "execute_result"
    },
    {
     "data": {
      "image/png": "[encoded data removed]",
      "text/plain": [
       "<Figure size 640x480 with 1 Axes>"
      ]
     },
     "metadata": {},
     "output_type": "display_data"
    }
   ],
   "source": [
    "gdf.plot()"
   ]
  },
  {
   "cell_type": "code",
   "execution_count": 15,
   "id": "73759605-7a53-4576-af15-9d92161932ed",
   "metadata": {},
   "outputs": [
    {
     "data": {
      "text/plain": [
       "<Geographic 2D CRS: EPSG:4326>\n",
       "Name: WGS 84\n",
       "Axis Info [ellipsoidal]:\n",
       "- Lat[north]: Geodetic latitude (degree)\n",
       "- Lon[east]: Geodetic longitude (degree)\n",
       "Area of Use:\n",
       "- name: World.\n",
       "- bounds: (-180.0, -90.0, 180.0, 90.0)\n",
       "Datum: World Geodetic System 1984 ensemble\n",
       "- Ellipsoid: WGS 84\n",
       "- Prime Meridian: Greenwich"
      ]
     },
     "execution_count": 15,
     "metadata": {},
     "output_type": "execute_result"
    }
   ],
   "source": [
    "gdf.crs"
   ]
  },
  {
   "cell_type": "code",
   "execution_count": null,
   "id": "cd58a208-2440-4008-9eba-b9439e5f561f",
   "metadata": {},
   "outputs": [],
   "source": []
  }
 ],
 "metadata": {
  "kernelspec": {
   "display_name": "Python 3 (ipykernel)",
   "language": "python",
   "name": "python3"
  },
  "language_info": {
   "codemirror_mode": {
    "name": "ipython",
    "version": 3
   },
   "file_extension": ".py",
   "mimetype": "text/x-python",
   "name": "python",
   "nbconvert_exporter": "python",
   "pygments_lexer": "ipython3",
   "version": "3.10.8"
  },
  "toc-autonumbering": false,
  "toc-showcode": false,
  "toc-showmarkdowntxt": false
 },
 "nbformat": 4,
 "nbformat_minor": 5
}
